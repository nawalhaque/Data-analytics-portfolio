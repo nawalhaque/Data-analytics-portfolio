{
 "cells": [
  {
   "cell_type": "markdown",
   "metadata": {},
   "source": [
    "# Task 1:"
   ]
  },
  {
   "cell_type": "code",
   "execution_count": 1,
   "metadata": {},
   "outputs": [
    {
     "name": "stdout",
     "output_type": "stream",
     "text": [
      "Training Naive Bayes Model...\n",
      "Naive Bayes Accuracy: 0.8244\n",
      "Training DistilBERT on Full Dataset...\n"
     ]
    },
    {
     "name": "stderr",
     "output_type": "stream",
     "text": [
      "Some weights of DistilBertForSequenceClassification were not initialized from the model checkpoint at distilbert-base-uncased and are newly initialized: ['classifier.bias', 'classifier.weight', 'pre_classifier.bias', 'pre_classifier.weight']\n",
      "You should probably TRAIN this model on a down-stream task to be able to use it for predictions and inference.\n",
      "/Users/nawalhaque/anaconda3/envs/cisc451/lib/python3.10/site-packages/transformers/training_args.py:1575: FutureWarning: `evaluation_strategy` is deprecated and will be removed in version 4.46 of 🤗 Transformers. Use `eval_strategy` instead\n",
      "  warnings.warn(\n",
      "/var/folders/kc/mhm2kh_d3hsgh6c30kfnwmhw0000gn/T/ipykernel_12638/2445929030.py:104: FutureWarning: `tokenizer` is deprecated and will be removed in version 5.0.0 for `Trainer.__init__`. Use `processing_class` instead.\n",
      "  trainer_full = Trainer(\n"
     ]
    },
    {
     "data": {
      "application/vnd.jupyter.widget-view+json": {
       "model_id": "d7301f942f884cb3b20db38b698dfe66",
       "version_major": 2,
       "version_minor": 0
      },
      "text/plain": [
       "  0%|          | 0/384 [00:00<?, ?it/s]"
      ]
     },
     "metadata": {},
     "output_type": "display_data"
    },
    {
     "name": "stdout",
     "output_type": "stream",
     "text": [
      "{'loss': 1.3403, 'grad_norm': 4.1200456619262695, 'learning_rate': 4.869791666666667e-05, 'epoch': 0.08}\n",
      "{'loss': 1.085, 'grad_norm': 2.9046683311462402, 'learning_rate': 4.739583333333333e-05, 'epoch': 0.16}\n",
      "{'loss': 0.6536, 'grad_norm': 2.682790517807007, 'learning_rate': 4.609375e-05, 'epoch': 0.23}\n",
      "{'loss': 0.4974, 'grad_norm': 5.574109077453613, 'learning_rate': 4.4791666666666673e-05, 'epoch': 0.31}\n",
      "{'loss': 0.429, 'grad_norm': 2.0967912673950195, 'learning_rate': 4.3489583333333334e-05, 'epoch': 0.39}\n",
      "{'loss': 0.4495, 'grad_norm': 1.4889888763427734, 'learning_rate': 4.21875e-05, 'epoch': 0.47}\n",
      "{'loss': 0.3901, 'grad_norm': 3.6198127269744873, 'learning_rate': 4.088541666666667e-05, 'epoch': 0.55}\n",
      "{'loss': 0.3633, 'grad_norm': 4.85049295425415, 'learning_rate': 3.958333333333333e-05, 'epoch': 0.62}\n",
      "{'loss': 0.2892, 'grad_norm': 19.605510711669922, 'learning_rate': 3.828125e-05, 'epoch': 0.7}\n",
      "{'loss': 0.3319, 'grad_norm': 18.781713485717773, 'learning_rate': 3.697916666666667e-05, 'epoch': 0.78}\n",
      "{'loss': 0.2317, 'grad_norm': 3.542133092880249, 'learning_rate': 3.5677083333333334e-05, 'epoch': 0.86}\n",
      "{'loss': 0.2673, 'grad_norm': 9.674927711486816, 'learning_rate': 3.4375e-05, 'epoch': 0.94}\n"
     ]
    },
    {
     "data": {
      "application/vnd.jupyter.widget-view+json": {
       "model_id": "66955d023c284c2e8912bb06c35ff0c8",
       "version_major": 2,
       "version_minor": 0
      },
      "text/plain": [
       "  0%|          | 0/22 [00:00<?, ?it/s]"
      ]
     },
     "metadata": {},
     "output_type": "display_data"
    },
    {
     "name": "stdout",
     "output_type": "stream",
     "text": [
      "{'eval_loss': 0.4872676134109497, 'eval_runtime': 14.0108, 'eval_samples_per_second': 96.711, 'eval_steps_per_second': 1.57, 'epoch': 1.0}\n",
      "{'loss': 0.1392, 'grad_norm': 3.9998955726623535, 'learning_rate': 3.307291666666667e-05, 'epoch': 1.02}\n",
      "{'loss': 0.1917, 'grad_norm': 0.4216555655002594, 'learning_rate': 3.177083333333333e-05, 'epoch': 1.09}\n",
      "{'loss': 0.1426, 'grad_norm': 3.6375536918640137, 'learning_rate': 3.0468750000000002e-05, 'epoch': 1.17}\n",
      "{'loss': 0.1072, 'grad_norm': 6.434605121612549, 'learning_rate': 2.916666666666667e-05, 'epoch': 1.25}\n",
      "{'loss': 0.1485, 'grad_norm': 4.705294132232666, 'learning_rate': 2.7864583333333334e-05, 'epoch': 1.33}\n",
      "{'loss': 0.0472, 'grad_norm': 0.3718622922897339, 'learning_rate': 2.6562500000000002e-05, 'epoch': 1.41}\n",
      "{'loss': 0.0643, 'grad_norm': 0.16052787005901337, 'learning_rate': 2.526041666666667e-05, 'epoch': 1.48}\n",
      "{'loss': 0.154, 'grad_norm': 8.935528755187988, 'learning_rate': 2.3958333333333334e-05, 'epoch': 1.56}\n",
      "{'loss': 0.1107, 'grad_norm': 9.268580436706543, 'learning_rate': 2.2656250000000002e-05, 'epoch': 1.64}\n",
      "{'loss': 0.0553, 'grad_norm': 0.11001778393983841, 'learning_rate': 2.1354166666666666e-05, 'epoch': 1.72}\n",
      "{'loss': 0.0944, 'grad_norm': 11.870403289794922, 'learning_rate': 2.0052083333333334e-05, 'epoch': 1.8}\n",
      "{'loss': 0.0838, 'grad_norm': 3.223050355911255, 'learning_rate': 1.8750000000000002e-05, 'epoch': 1.88}\n",
      "{'loss': 0.0402, 'grad_norm': 0.12504945695400238, 'learning_rate': 1.7447916666666666e-05, 'epoch': 1.95}\n"
     ]
    },
    {
     "data": {
      "application/vnd.jupyter.widget-view+json": {
       "model_id": "5dfcd4401e3a4e7ebbee1fddcc16783a",
       "version_major": 2,
       "version_minor": 0
      },
      "text/plain": [
       "  0%|          | 0/22 [00:00<?, ?it/s]"
      ]
     },
     "metadata": {},
     "output_type": "display_data"
    },
    {
     "name": "stdout",
     "output_type": "stream",
     "text": [
      "{'eval_loss': 0.41801074147224426, 'eval_runtime': 14.3356, 'eval_samples_per_second': 94.52, 'eval_steps_per_second': 1.535, 'epoch': 2.0}\n",
      "{'loss': 0.1245, 'grad_norm': 4.679348468780518, 'learning_rate': 1.6145833333333334e-05, 'epoch': 2.03}\n",
      "{'loss': 0.0242, 'grad_norm': 18.280033111572266, 'learning_rate': 1.484375e-05, 'epoch': 2.11}\n",
      "{'loss': 0.0176, 'grad_norm': 0.7078198194503784, 'learning_rate': 1.3541666666666666e-05, 'epoch': 2.19}\n",
      "{'loss': 0.0129, 'grad_norm': 0.6196869611740112, 'learning_rate': 1.2239583333333334e-05, 'epoch': 2.27}\n",
      "{'loss': 0.0079, 'grad_norm': 0.06940577179193497, 'learning_rate': 1.09375e-05, 'epoch': 2.34}\n",
      "{'loss': 0.0745, 'grad_norm': 0.8186850547790527, 'learning_rate': 9.635416666666668e-06, 'epoch': 2.42}\n",
      "{'loss': 0.0744, 'grad_norm': 5.703170299530029, 'learning_rate': 8.333333333333334e-06, 'epoch': 2.5}\n",
      "{'loss': 0.0353, 'grad_norm': 2.2436299324035645, 'learning_rate': 7.031250000000001e-06, 'epoch': 2.58}\n",
      "{'loss': 0.0394, 'grad_norm': 0.06320475786924362, 'learning_rate': 5.729166666666667e-06, 'epoch': 2.66}\n",
      "{'loss': 0.0247, 'grad_norm': 16.82499122619629, 'learning_rate': 4.427083333333334e-06, 'epoch': 2.73}\n",
      "{'loss': 0.0649, 'grad_norm': 1.4571661949157715, 'learning_rate': 3.125e-06, 'epoch': 2.81}\n",
      "{'loss': 0.0096, 'grad_norm': 0.040710337460041046, 'learning_rate': 1.8229166666666669e-06, 'epoch': 2.89}\n",
      "{'loss': 0.0331, 'grad_norm': 8.218938827514648, 'learning_rate': 5.208333333333334e-07, 'epoch': 2.97}\n"
     ]
    },
    {
     "data": {
      "application/vnd.jupyter.widget-view+json": {
       "model_id": "472f5bd428d94f539ef9dffec0d344e3",
       "version_major": 2,
       "version_minor": 0
      },
      "text/plain": [
       "  0%|          | 0/22 [00:00<?, ?it/s]"
      ]
     },
     "metadata": {},
     "output_type": "display_data"
    },
    {
     "name": "stdout",
     "output_type": "stream",
     "text": [
      "{'eval_loss': 0.4285692274570465, 'eval_runtime': 13.9545, 'eval_samples_per_second': 97.101, 'eval_steps_per_second': 1.577, 'epoch': 3.0}\n",
      "{'train_runtime': 220.5718, 'train_samples_per_second': 27.678, 'train_steps_per_second': 1.741, 'train_loss': 0.21493898600844355, 'epoch': 3.0}\n"
     ]
    },
    {
     "data": {
      "application/vnd.jupyter.widget-view+json": {
       "model_id": "af313876db6f4197b2d4bebf295bc510",
       "version_major": 2,
       "version_minor": 0
      },
      "text/plain": [
       "  0%|          | 0/22 [00:00<?, ?it/s]"
      ]
     },
     "metadata": {},
     "output_type": "display_data"
    },
    {
     "name": "stderr",
     "output_type": "stream",
     "text": [
      "Some weights of DistilBertForSequenceClassification were not initialized from the model checkpoint at distilbert-base-uncased and are newly initialized: ['classifier.bias', 'classifier.weight', 'pre_classifier.bias', 'pre_classifier.weight']\n",
      "You should probably TRAIN this model on a down-stream task to be able to use it for predictions and inference.\n"
     ]
    },
    {
     "name": "stdout",
     "output_type": "stream",
     "text": [
      "DistilBERT Accuracy (Full Dataset): 0.8886\n",
      "Training DistilBERT on Subset Dataset...\n"
     ]
    },
    {
     "name": "stderr",
     "output_type": "stream",
     "text": [
      "/Users/nawalhaque/anaconda3/envs/cisc451/lib/python3.10/site-packages/transformers/training_args.py:1575: FutureWarning: `evaluation_strategy` is deprecated and will be removed in version 4.46 of 🤗 Transformers. Use `eval_strategy` instead\n",
      "  warnings.warn(\n",
      "/var/folders/kc/mhm2kh_d3hsgh6c30kfnwmhw0000gn/T/ipykernel_12638/2445929030.py:144: FutureWarning: `tokenizer` is deprecated and will be removed in version 5.0.0 for `Trainer.__init__`. Use `processing_class` instead.\n",
      "  trainer_subset = Trainer(\n"
     ]
    },
    {
     "data": {
      "application/vnd.jupyter.widget-view+json": {
       "model_id": "f0c632d3ea2942e8a08e7967e66f4025",
       "version_major": 2,
       "version_minor": 0
      },
      "text/plain": [
       "  0%|          | 0/96 [00:00<?, ?it/s]"
      ]
     },
     "metadata": {},
     "output_type": "display_data"
    },
    {
     "name": "stdout",
     "output_type": "stream",
     "text": [
      "{'loss': 1.3119, 'grad_norm': 3.2369813919067383, 'learning_rate': 4.4791666666666673e-05, 'epoch': 0.31}\n",
      "{'loss': 0.9127, 'grad_norm': 5.739065170288086, 'learning_rate': 3.958333333333333e-05, 'epoch': 0.62}\n",
      "{'loss': 0.6522, 'grad_norm': 4.110918998718262, 'learning_rate': 3.4375e-05, 'epoch': 0.94}\n"
     ]
    },
    {
     "data": {
      "application/vnd.jupyter.widget-view+json": {
       "model_id": "81576c2ac2524ca9a1a0bb574cd508ea",
       "version_major": 2,
       "version_minor": 0
      },
      "text/plain": [
       "  0%|          | 0/22 [00:00<?, ?it/s]"
      ]
     },
     "metadata": {},
     "output_type": "display_data"
    },
    {
     "name": "stdout",
     "output_type": "stream",
     "text": [
      "{'eval_loss': 0.5674052238464355, 'eval_runtime': 14.589, 'eval_samples_per_second': 92.878, 'eval_steps_per_second': 1.508, 'epoch': 1.0}\n",
      "{'loss': 0.4873, 'grad_norm': 6.119400978088379, 'learning_rate': 2.916666666666667e-05, 'epoch': 1.25}\n",
      "{'loss': 0.4001, 'grad_norm': 1.2821828126907349, 'learning_rate': 2.3958333333333334e-05, 'epoch': 1.56}\n",
      "{'loss': 0.3365, 'grad_norm': 1.6627522706985474, 'learning_rate': 1.8750000000000002e-05, 'epoch': 1.88}\n"
     ]
    },
    {
     "data": {
      "application/vnd.jupyter.widget-view+json": {
       "model_id": "85d045dd9bc84896999d27fc5eb2a818",
       "version_major": 2,
       "version_minor": 0
      },
      "text/plain": [
       "  0%|          | 0/22 [00:00<?, ?it/s]"
      ]
     },
     "metadata": {},
     "output_type": "display_data"
    },
    {
     "name": "stdout",
     "output_type": "stream",
     "text": [
      "{'eval_loss': 0.4445066452026367, 'eval_runtime': 14.6139, 'eval_samples_per_second': 92.72, 'eval_steps_per_second': 1.505, 'epoch': 2.0}\n",
      "{'loss': 0.2972, 'grad_norm': 5.965527057647705, 'learning_rate': 1.3541666666666666e-05, 'epoch': 2.19}\n",
      "{'loss': 0.2673, 'grad_norm': 3.060622215270996, 'learning_rate': 8.333333333333334e-06, 'epoch': 2.5}\n",
      "{'loss': 0.2193, 'grad_norm': 2.2348201274871826, 'learning_rate': 3.125e-06, 'epoch': 2.81}\n"
     ]
    },
    {
     "data": {
      "application/vnd.jupyter.widget-view+json": {
       "model_id": "e3d3ba5e81f44a61bca63a085736b894",
       "version_major": 2,
       "version_minor": 0
      },
      "text/plain": [
       "  0%|          | 0/22 [00:00<?, ?it/s]"
      ]
     },
     "metadata": {},
     "output_type": "display_data"
    },
    {
     "name": "stdout",
     "output_type": "stream",
     "text": [
      "{'eval_loss': 0.4144500494003296, 'eval_runtime': 14.6066, 'eval_samples_per_second': 92.766, 'eval_steps_per_second': 1.506, 'epoch': 3.0}\n",
      "{'train_runtime': 91.1524, 'train_samples_per_second': 16.719, 'train_steps_per_second': 1.053, 'train_loss': 0.5226936948796114, 'epoch': 3.0}\n"
     ]
    },
    {
     "data": {
      "application/vnd.jupyter.widget-view+json": {
       "model_id": "6ce250184e204459ac28b743c50e59b5",
       "version_major": 2,
       "version_minor": 0
      },
      "text/plain": [
       "  0%|          | 0/22 [00:00<?, ?it/s]"
      ]
     },
     "metadata": {},
     "output_type": "display_data"
    },
    {
     "name": "stdout",
     "output_type": "stream",
     "text": [
      "DistilBERT Accuracy (Subset Dataset): 0.8332\n",
      "Generating Confusion Matrices...\n"
     ]
    },
    {
     "data": {
      "text/plain": [
       "<sklearn.metrics._plot.confusion_matrix.ConfusionMatrixDisplay at 0x1366ae920>"
      ]
     },
     "execution_count": 1,
     "metadata": {},
     "output_type": "execute_result"
    },
    {
     "data": {
      "image/png": "[encoded data removed]",
      "text/plain": [
       "<Figure size 640x480 with 2 Axes>"
      ]
     },
     "metadata": {},
     "output_type": "display_data"
    },
    {
     "data": {
      "image/png": "[encoded data removed]",
      "text/plain": [
       "<Figure size 640x480 with 2 Axes>"
      ]
     },
     "metadata": {},
     "output_type": "display_data"
    },
    {
     "data": {
      "image/png": "[encoded data removed]",
      "text/plain": [
       "<Figure size 640x480 with 2 Axes>"
      ]
     },
     "metadata": {},
     "output_type": "display_data"
    }
   ],
   "source": [
    "import os\n",
    "import numpy as np\n",
    "from sklearn.feature_extraction.text import TfidfVectorizer\n",
    "from sklearn.naive_bayes import MultinomialNB\n",
    "from sklearn.metrics import accuracy_score, ConfusionMatrixDisplay\n",
    "from transformers import DistilBertTokenizer, DistilBertForSequenceClassification, Trainer, TrainingArguments\n",
    "from torch.utils.data import Dataset, DataLoader\n",
    "import torch\n",
    "\n",
    "# Categories to include\n",
    "selected_categories = ['alt.atheism', 'comp.graphics', 'sci.med', 'talk.religion.misc']\n",
    "\n",
    "# Function to load data for specific categories\n",
    "def load_data_for_selected_categories(base_path, categories):\n",
    "    texts, labels = [], []\n",
    "    category_to_label = {category: idx for idx, category in enumerate(categories)}\n",
    "    \n",
    "    for category in categories:\n",
    "        category_path = os.path.join(base_path, category)\n",
    "        if os.path.isdir(category_path):\n",
    "            for filename in os.listdir(category_path):\n",
    "                file_path = os.path.join(category_path, filename)\n",
    "                with open(file_path, 'r', errors='ignore') as file:\n",
    "                    texts.append(file.read())\n",
    "                    labels.append(category_to_label[category])\n",
    "    \n",
    "    return texts, labels, categories\n",
    "\n",
    "# Load train and test data for selected categories\n",
    "train_path = \"20news-bydate/20news-bydate-train\"\n",
    "test_path = \"20news-bydate/20news-bydate-test\"\n",
    "\n",
    "train_texts, train_labels, categories = load_data_for_selected_categories(train_path, selected_categories)\n",
    "test_texts, test_labels, _ = load_data_for_selected_categories(test_path, selected_categories)\n",
    "\n",
    "# Task 1: Naive Bayes with TF-IDF\n",
    "print(\"Training Naive Bayes Model...\")\n",
    "\n",
    "# TF-IDF Vectorization\n",
    "tfidf_vectorizer = TfidfVectorizer(ngram_range=(1, 2), max_features=5000)  # Using bigrams and limiting features\n",
    "X_train_tfidf = tfidf_vectorizer.fit_transform(train_texts)\n",
    "X_test_tfidf = tfidf_vectorizer.transform(test_texts)\n",
    "\n",
    "# Train Naive Bayes\n",
    "nb_model = MultinomialNB()\n",
    "nb_model.fit(X_train_tfidf, train_labels)\n",
    "\n",
    "# Predictions and Evaluation\n",
    "nb_predictions = nb_model.predict(X_test_tfidf)\n",
    "nb_accuracy = accuracy_score(test_labels, nb_predictions)\n",
    "print(f\"Naive Bayes Accuracy: {nb_accuracy:.4f}\")\n",
    "\n",
    "# Define a custom dataset class for transformers\n",
    "class CustomTextDataset(Dataset):\n",
    "    def __init__(self, texts, labels, tokenizer, max_length=128):\n",
    "        self.texts = texts\n",
    "        self.labels = labels\n",
    "        self.tokenizer = tokenizer\n",
    "        self.max_length = max_length\n",
    "\n",
    "    def __len__(self):\n",
    "        return len(self.texts)\n",
    "\n",
    "    def __getitem__(self, idx):\n",
    "        text = self.texts[idx]\n",
    "        label = self.labels[idx]\n",
    "        encoding = self.tokenizer(\n",
    "            text,\n",
    "            max_length=self.max_length,\n",
    "            padding=\"max_length\",\n",
    "            truncation=True,\n",
    "            return_tensors=\"pt\"\n",
    "        )\n",
    "        return {\n",
    "            \"input_ids\": encoding[\"input_ids\"].squeeze(0),\n",
    "            \"attention_mask\": encoding[\"attention_mask\"].squeeze(0),\n",
    "            \"labels\": torch.tensor(label, dtype=torch.long)\n",
    "        }\n",
    "\n",
    "# Tokenizer setup\n",
    "tokenizer = DistilBertTokenizer.from_pretrained(\"distilbert-base-uncased\")\n",
    "\n",
    "# Task 1: DistilBERT Transfer Learning Setting 1 (Full Dataset)\n",
    "print(\"Training DistilBERT on Full Dataset...\")\n",
    "\n",
    "train_dataset_full = CustomTextDataset(train_texts, train_labels, tokenizer)\n",
    "test_dataset = CustomTextDataset(test_texts, test_labels, tokenizer)\n",
    "\n",
    "model_full = DistilBertForSequenceClassification.from_pretrained(\"distilbert-base-uncased\", num_labels=len(selected_categories))\n",
    "\n",
    "training_args_full = TrainingArguments(\n",
    "    output_dir=\"./results_full\",\n",
    "    evaluation_strategy=\"epoch\",\n",
    "    save_strategy=\"no\",\n",
    "    learning_rate=5e-5,\n",
    "    per_device_train_batch_size=16,\n",
    "    per_device_eval_batch_size=64,\n",
    "    num_train_epochs=3,\n",
    "    weight_decay=0.01,\n",
    "    logging_dir=\"./logs_full\",\n",
    "    logging_steps=10\n",
    ")\n",
    "\n",
    "trainer_full = Trainer(\n",
    "    model=model_full,\n",
    "    args=training_args_full,\n",
    "    train_dataset=train_dataset_full,\n",
    "    eval_dataset=test_dataset,\n",
    "    tokenizer=tokenizer\n",
    ")\n",
    "\n",
    "trainer_full.train()\n",
    "\n",
    "# Evaluate Full Dataset Setting\n",
    "predictions_full = trainer_full.predict(test_dataset)\n",
    "pred_labels_full = np.argmax(predictions_full.predictions, axis=1)\n",
    "accuracy_full = accuracy_score(test_labels, pred_labels_full)\n",
    "print(f\"DistilBERT Accuracy (Full Dataset): {accuracy_full:.4f}\")\n",
    "\n",
    "# Task 1: DistilBERT Transfer Learning Setting 2 (Subset Dataset)\n",
    "print(\"Training DistilBERT on Subset Dataset...\")\n",
    "\n",
    "subset_indices = np.random.choice(len(train_texts), size=len(train_texts) // 4, replace=False)\n",
    "train_texts_subset = [train_texts[i] for i in subset_indices]\n",
    "train_labels_subset = [train_labels[i] for i in subset_indices]\n",
    "\n",
    "train_dataset_subset = CustomTextDataset(train_texts_subset, train_labels_subset, tokenizer)\n",
    "\n",
    "model_subset = DistilBertForSequenceClassification.from_pretrained(\"distilbert-base-uncased\", num_labels=len(selected_categories))\n",
    "\n",
    "training_args_subset = TrainingArguments(\n",
    "    output_dir=\"./results_subset\",\n",
    "    evaluation_strategy=\"epoch\",\n",
    "    save_strategy=\"no\",\n",
    "    learning_rate=5e-5,\n",
    "    per_device_train_batch_size=16,\n",
    "    per_device_eval_batch_size=64,\n",
    "    num_train_epochs=3,\n",
    "    weight_decay=0.01,\n",
    "    logging_dir=\"./logs_subset\",\n",
    "    logging_steps=10\n",
    ")\n",
    "\n",
    "trainer_subset = Trainer(\n",
    "    model=model_subset,\n",
    "    args=training_args_subset,\n",
    "    train_dataset=train_dataset_subset,\n",
    "    eval_dataset=test_dataset,\n",
    "    tokenizer=tokenizer\n",
    ")\n",
    "\n",
    "trainer_subset.train()\n",
    "\n",
    "# Evaluate Subset Dataset Setting\n",
    "predictions_subset = trainer_subset.predict(test_dataset)\n",
    "pred_labels_subset = np.argmax(predictions_subset.predictions, axis=1)\n",
    "accuracy_subset = accuracy_score(test_labels, pred_labels_subset)\n",
    "print(f\"DistilBERT Accuracy (Subset Dataset): {accuracy_subset:.4f}\")\n",
    "\n",
    "# Visualize Confusion Matrices\n",
    "print(\"Generating Confusion Matrices...\")\n",
    "ConfusionMatrixDisplay.from_predictions(test_labels, pred_labels_full, display_labels=selected_categories, xticks_rotation='vertical')\n",
    "ConfusionMatrixDisplay.from_predictions(test_labels, pred_labels_subset, display_labels=selected_categories, xticks_rotation='vertical')\n",
    "ConfusionMatrixDisplay.from_predictions(test_labels, nb_predictions, display_labels=selected_categories, xticks_rotation='vertical')\n"
   ]
  },
  {
   "cell_type": "code",
   "execution_count": 2,
   "metadata": {},
   "outputs": [
    {
     "name": "stdout",
     "output_type": "stream",
     "text": [
      "Evaluating DistilBERT on Full Dataset...\n"
     ]
    },
    {
     "data": {
      "application/vnd.jupyter.widget-view+json": {
       "model_id": "ef997cf52dcd429b968fe4e2791d0367",
       "version_major": 2,
       "version_minor": 0
      },
      "text/plain": [
       "  0%|          | 0/22 [00:00<?, ?it/s]"
      ]
     },
     "metadata": {},
     "output_type": "display_data"
    },
    {
     "name": "stdout",
     "output_type": "stream",
     "text": [
      "DistilBERT Accuracy (Full Dataset): 0.8886\n",
      "Evaluating DistilBERT on Subset Dataset...\n"
     ]
    },
    {
     "data": {
      "application/vnd.jupyter.widget-view+json": {
       "model_id": "2fca7318e00446dd8e0b10ce9c05df4c",
       "version_major": 2,
       "version_minor": 0
      },
      "text/plain": [
       "  0%|          | 0/22 [00:00<?, ?it/s]"
      ]
     },
     "metadata": {},
     "output_type": "display_data"
    },
    {
     "name": "stdout",
     "output_type": "stream",
     "text": [
      "DistilBERT Accuracy (Subset Dataset): 0.8332\n"
     ]
    }
   ],
   "source": [
    "# Evaluate Full Dataset Setting\n",
    "print(\"Evaluating DistilBERT on Full Dataset...\")\n",
    "predictions_full = trainer_full.predict(test_dataset)\n",
    "pred_labels_full = np.argmax(predictions_full.predictions, axis=1)\n",
    "accuracy_full = accuracy_score(test_labels, pred_labels_full)\n",
    "print(f\"DistilBERT Accuracy (Full Dataset): {accuracy_full:.4f}\")\n",
    "\n",
    "# Evaluate Subset Dataset Setting\n",
    "print(\"Evaluating DistilBERT on Subset Dataset...\")\n",
    "predictions_subset = trainer_subset.predict(test_dataset)\n",
    "pred_labels_subset = np.argmax(predictions_subset.predictions, axis=1)\n",
    "accuracy_subset = accuracy_score(test_labels, pred_labels_subset)\n",
    "print(f\"DistilBERT Accuracy (Subset Dataset): {accuracy_subset:.4f}\")\n"
   ]
  },
  {
   "cell_type": "code",
   "execution_count": 3,
   "metadata": {},
   "outputs": [
    {
     "name": "stdout",
     "output_type": "stream",
     "text": [
      "Performance Results:\n",
      "==============================\n",
      "Naive Bayes Accuracy (Full Dataset): 0.8244\n",
      "DistilBERT Accuracy (Full Dataset): 0.8886\n",
      "DistilBERT Accuracy (Subset Dataset): 0.8332\n",
      "==============================\n"
     ]
    }
   ],
   "source": [
    "# Print results for both models neatly\n",
    "print(\"Performance Results:\")\n",
    "print(\"=\" * 30)\n",
    "print(f\"Naive Bayes Accuracy (Full Dataset): {nb_accuracy:.4f}\")\n",
    "print(f\"DistilBERT Accuracy (Full Dataset): {accuracy_full:.4f}\")\n",
    "print(f\"DistilBERT Accuracy (Subset Dataset): {accuracy_subset:.4f}\")\n",
    "print(\"=\" * 30)\n"
   ]
  },
  {
   "cell_type": "markdown",
   "metadata": {},
   "source": [
    "# Task 2:"
   ]
  },
  {
   "cell_type": "code",
   "execution_count": 4,
   "metadata": {},
   "outputs": [
    {
     "name": "stderr",
     "output_type": "stream",
     "text": [
      "[nltk_data] Downloading package wordnet to\n",
      "[nltk_data]     /Users/nawalhaque/nltk_data...\n",
      "[nltk_data]   Package wordnet is already up-to-date!\n"
     ]
    }
   ],
   "source": [
    "import random\n",
    "from nltk.corpus import wordnet\n",
    "\n",
    "# Ensure NLTK resources are available\n",
    "import nltk\n",
    "nltk.download('wordnet')\n",
    "\n",
    "# Function for character-level attacks\n",
    "def character_level_attack(text, attack_type=\"swap\"):\n",
    "    words = text.split()\n",
    "    attacked_words = []\n",
    "    for word in words:\n",
    "        if random.random() < 0.2:  # 20% chance to attack a word\n",
    "            if attack_type == \"swap\" and len(word) > 1:\n",
    "                idx = random.randint(0, len(word) - 2)\n",
    "                word = word[:idx] + word[idx+1] + word[idx] + word[idx+2:]  # Swap adjacent chars\n",
    "            elif attack_type == \"insert\":\n",
    "                idx = random.randint(0, len(word) - 1)\n",
    "                word = word[:idx] + random.choice('abcdefghijklmnopqrstuvwxyz') + word[idx:]\n",
    "        attacked_words.append(word)\n",
    "    return \" \".join(attacked_words)\n",
    "\n",
    "# Function for synonym substitution attack\n",
    "def synonym_substitution_attack(text):\n",
    "    words = text.split()\n",
    "    attacked_words = []\n",
    "    for word in words:\n",
    "        if random.random() < 0.2:  # 20% chance to attack a word\n",
    "            synonyms = wordnet.synsets(word)\n",
    "            if synonyms:\n",
    "                synonym = synonyms[0].lemmas()[0].name()  # Pick the first synonym\n",
    "                if synonym != word:\n",
    "                    word = synonym  # Substitute with synonym\n",
    "        attacked_words.append(word)\n",
    "    return \" \".join(attacked_words)\n",
    "\n",
    "# Generate adversarial samples\n",
    "def generate_adversarial_samples(texts, attack_type):\n",
    "    return [character_level_attack(text, attack_type) if attack_type in [\"swap\", \"insert\"] else synonym_substitution_attack(text) for text in texts]\n",
    "\n",
    "# Generate adversarial test sets\n",
    "test_texts_swap = generate_adversarial_samples(test_texts, \"swap\")\n",
    "test_texts_insert = generate_adversarial_samples(test_texts, \"insert\")\n",
    "test_texts_synonym = generate_adversarial_samples(test_texts, \"synonym\")\n"
   ]
  },
  {
   "cell_type": "code",
   "execution_count": 5,
   "metadata": {},
   "outputs": [
    {
     "name": "stdout",
     "output_type": "stream",
     "text": [
      "Evaluating Naive Bayes on Adversarial Samples...\n",
      "Naive Bayes Accuracy (Character Swap): 0.8155\n",
      "Naive Bayes Accuracy (Character Insert): 0.8185\n",
      "Naive Bayes Accuracy (Synonym Substitution): 0.8214\n",
      "Evaluating DistilBERT on Adversarial Samples...\n"
     ]
    },
    {
     "data": {
      "application/vnd.jupyter.widget-view+json": {
       "model_id": "f79dd763c5064772bf880a9422cb0bda",
       "version_major": 2,
       "version_minor": 0
      },
      "text/plain": [
       "  0%|          | 0/22 [00:00<?, ?it/s]"
      ]
     },
     "metadata": {},
     "output_type": "display_data"
    },
    {
     "data": {
      "application/vnd.jupyter.widget-view+json": {
       "model_id": "3a837a0bdd694a4da5475b6d32a2a57d",
       "version_major": 2,
       "version_minor": 0
      },
      "text/plain": [
       "  0%|          | 0/22 [00:00<?, ?it/s]"
      ]
     },
     "metadata": {},
     "output_type": "display_data"
    },
    {
     "data": {
      "application/vnd.jupyter.widget-view+json": {
       "model_id": "ebd3f469ae654adfbd0757c83f0775e2",
       "version_major": 2,
       "version_minor": 0
      },
      "text/plain": [
       "  0%|          | 0/22 [00:00<?, ?it/s]"
      ]
     },
     "metadata": {},
     "output_type": "display_data"
    },
    {
     "name": "stdout",
     "output_type": "stream",
     "text": [
      "DistilBERT Accuracy (Character Swap): 0.8546\n",
      "DistilBERT Accuracy (Character Insert): 0.8613\n",
      "DistilBERT Accuracy (Synonym Substitution): 0.8871\n"
     ]
    }
   ],
   "source": [
    "# Evaluate Naive Bayes on adversarial samples\n",
    "print(\"Evaluating Naive Bayes on Adversarial Samples...\")\n",
    "X_test_tfidf_swap = tfidf_vectorizer.transform(test_texts_swap)\n",
    "X_test_tfidf_insert = tfidf_vectorizer.transform(test_texts_insert)\n",
    "X_test_tfidf_synonym = tfidf_vectorizer.transform(test_texts_synonym)\n",
    "\n",
    "nb_accuracy_swap = accuracy_score(test_labels, nb_model.predict(X_test_tfidf_swap))\n",
    "nb_accuracy_insert = accuracy_score(test_labels, nb_model.predict(X_test_tfidf_insert))\n",
    "nb_accuracy_synonym = accuracy_score(test_labels, nb_model.predict(X_test_tfidf_synonym))\n",
    "\n",
    "print(f\"Naive Bayes Accuracy (Character Swap): {nb_accuracy_swap:.4f}\")\n",
    "print(f\"Naive Bayes Accuracy (Character Insert): {nb_accuracy_insert:.4f}\")\n",
    "print(f\"Naive Bayes Accuracy (Synonym Substitution): {nb_accuracy_synonym:.4f}\")\n",
    "\n",
    "# Evaluate DistilBERT on adversarial samples\n",
    "def evaluate_bert_on_adversarial(trainer, adv_texts):\n",
    "    adv_dataset = CustomTextDataset(adv_texts, test_labels, tokenizer)\n",
    "    predictions = trainer.predict(adv_dataset)\n",
    "    pred_labels = np.argmax(predictions.predictions, axis=1)\n",
    "    return accuracy_score(test_labels, pred_labels)\n",
    "\n",
    "print(\"Evaluating DistilBERT on Adversarial Samples...\")\n",
    "bert_accuracy_swap = evaluate_bert_on_adversarial(trainer_full, test_texts_swap)\n",
    "bert_accuracy_insert = evaluate_bert_on_adversarial(trainer_full, test_texts_insert)\n",
    "bert_accuracy_synonym = evaluate_bert_on_adversarial(trainer_full, test_texts_synonym)\n",
    "\n",
    "print(f\"DistilBERT Accuracy (Character Swap): {bert_accuracy_swap:.4f}\")\n",
    "print(f\"DistilBERT Accuracy (Character Insert): {bert_accuracy_insert:.4f}\")\n",
    "print(f\"DistilBERT Accuracy (Synonym Substitution): {bert_accuracy_synonym:.4f}\")\n"
   ]
  }
 ],
 "metadata": {
  "kernelspec": {
   "display_name": "cisc451",
   "language": "python",
   "name": "python3"
  },
  "language_info": {
   "codemirror_mode": {
    "name": "ipython",
    "version": 3
   },
   "file_extension": ".py",
   "mimetype": "text/x-python",
   "name": "python",
   "nbconvert_exporter": "python",
   "pygments_lexer": "ipython3",
   "version": "3.10.15"
  }
 },
 "nbformat": 4,
 "nbformat_minor": 2
}
